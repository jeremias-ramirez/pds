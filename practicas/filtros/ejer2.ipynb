{
 "cells": [
  {
   "cell_type": "code",
   "execution_count": 13,
   "source": [
    "import math\n",
    "import numpy as np\n",
    "from numpy.lib.polynomial import poly\n",
    "from scipy.signal import freqz"
   ],
   "outputs": [],
   "metadata": {}
  },
  {
   "cell_type": "markdown",
   "source": [
    "## función para obtener los polos"
   ],
   "metadata": {}
  },
  {
   "cell_type": "code",
   "execution_count": 14,
   "source": [
    "def polosButt(N):\n",
    "    ang = lambda n: (2* n + N+1)*np.pi / (2* N)\n",
    "\n",
    "    return np.array([np.exp(1j * ang(i)) for i in range(N)])\n"
   ],
   "outputs": [],
   "metadata": {}
  },
  {
   "cell_type": "code",
   "execution_count": 15,
   "source": [
    "print(polosButt(4))"
   ],
   "outputs": [
    {
     "output_type": "stream",
     "name": "stdout",
     "text": [
      "[-0.38268343+0.92387953j -0.92387953+0.38268343j -0.92387953-0.38268343j\n",
      " -0.38268343-0.92387953j]\n"
     ]
    }
   ],
   "metadata": {}
  },
  {
   "cell_type": "markdown",
   "source": [
    "## transformación de frecuencia\n",
    "Recibe los polos y la frecuencia de corte, es una trasformación de pasa alto"
   ],
   "metadata": {}
  },
  {
   "cell_type": "code",
   "execution_count": 16,
   "source": [
    "def tranf(polos, wc):\n",
    "    zeros = np.zeros(polos.size)\n",
    "    new_polos = [wc/p for p in polos]\n",
    "    mult_k = [(-1/p) for p in polos]\n",
    "    k = math.prod(mult_k, start=1) #factor de ganacia acumulativo\n",
    "    \n",
    "    return [zeros, np.array(new_polos), k] "
   ],
   "outputs": [],
   "metadata": {}
  },
  {
   "cell_type": "markdown",
   "source": [
    "## transformación bilineal"
   ],
   "metadata": {}
  },
  {
   "cell_type": "code",
   "execution_count": 17,
   "source": [
    "# T: el periodo de muestreo\n",
    "def bilineal(zeros, polos, k, T):\n",
    "\n",
    "    tranf_zero = lambda z: (2/T + z) / (2/T - z)\n",
    "    new_zeros = [tranf_zero(z) for z in zeros]\n",
    "\n",
    "    k_zeros = [2/T - z for z in zeros]\n",
    "    kk = math.prod(k_zeros, start = 1)\n",
    "    k = kk * k\n",
    "\n",
    "    tranf_polo = lambda p: (2/T + p) / (2/T - p)\n",
    "    new_polos = [tranf_polo(p) for p in polos]\n",
    "    \n",
    "    k_polos = [1/(2/T - p) for p in polos]\n",
    "    kk = math.prod(k_polos, start= 1)\n",
    "    k = kk * k\n",
    "\n",
    "    num = np.real(k * poly(new_zeros))\n",
    "    den = np.real(poly(new_polos))\n",
    "    return num, den "
   ],
   "outputs": [],
   "metadata": {}
  },
  {
   "cell_type": "markdown",
   "source": [
    "# implementación"
   ],
   "metadata": {}
  },
  {
   "cell_type": "markdown",
   "source": [
    "## butterword filter"
   ],
   "metadata": {}
  },
  {
   "cell_type": "code",
   "execution_count": 18,
   "source": [
    "def butt(N, fc, fm):\n",
    "    polos = polosButt(N)\n",
    "    f = fm * math.tan(fc * np.pi / fm) / np.pi \n",
    "    (z, n_p, k) = tranf(polos, 2*np.pi * f) # 2*pi * f es para tranformarla en omega angular\n",
    "    return bilineal(z, n_p, k, 1/fm)"
   ],
   "outputs": [],
   "metadata": {}
  },
  {
   "cell_type": "markdown",
   "source": [
    "# Prueba"
   ],
   "metadata": {}
  },
  {
   "cell_type": "code",
   "execution_count": 22,
   "source": [
    "fm = 2000\n",
    "fc = 500\n",
    "#orden 2\n",
    "(num, den) = butt(2, fc, fm)\n",
    "w, h = freqz(num, den)\n",
    "\n",
    "import matplotlib.pyplot as plt\n",
    "\n",
    "plt.plot(((fm/2)/np.pi)*w, np.abs(h)**2)\n",
    "\n",
    "#orden 4\n",
    "(num, den) = butt(4, fc, fm)\n",
    "w, h = freqz(num, den)\n",
    "\n",
    "plt.plot(((fm/2)/np.pi)*w, np.abs(h)**2)\n",
    "\n",
    "#orden 6\n",
    "(num, den) = butt(6, fc, fm)\n",
    "w, h = freqz(num, den)\n",
    "\n",
    "plt.plot(((fm/2)/np.pi)*w, np.abs(h)**2)\n",
    "\n"
   ],
   "outputs": [
    {
     "output_type": "execute_result",
     "data": {
      "text/plain": [
       "[<matplotlib.lines.Line2D at 0x7fe11e925310>]"
      ]
     },
     "metadata": {},
     "execution_count": 22
    },
    {
     "output_type": "display_data",
     "data": {
      "image/png": "[encoded data removed]",
      "text/plain": [
       "<Figure size 432x288 with 1 Axes>"
      ]
     },
     "metadata": {
      "needs_background": "light"
     }
    }
   ],
   "metadata": {}
  },
  {
   "cell_type": "code",
   "execution_count": null,
   "source": [],
   "outputs": [],
   "metadata": {}
  }
 ],
 "metadata": {
  "orig_nbformat": 4,
  "language_info": {
   "name": "python",
   "version": "3.9.2",
   "mimetype": "text/x-python",
   "codemirror_mode": {
    "name": "ipython",
    "version": 3
   },
   "pygments_lexer": "ipython3",
   "nbconvert_exporter": "python",
   "file_extension": ".py"
  },
  "kernelspec": {
   "name": "python3",
   "display_name": "Python 3.9.2 64-bit"
  },
  "interpreter": {
   "hash": "e7370f93d1d0cde622a1f8e1c04877d8463912d04d973331ad4851f04de6915a"
  }
 },
 "nbformat": 4,
 "nbformat_minor": 2
}