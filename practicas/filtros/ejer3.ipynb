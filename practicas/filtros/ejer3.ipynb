{
 "cells": [
  {
   "cell_type": "code",
   "execution_count": 11,
   "source": [
    "import numpy as np\n"
   ],
   "outputs": [],
   "metadata": {}
  },
  {
   "cell_type": "markdown",
   "source": [
    "## Definición de datos\n"
   ],
   "metadata": {}
  },
  {
   "cell_type": "code",
   "execution_count": 1,
   "source": [
    "fm = 300 #frecuncia de muestreo\n",
    "fr = 50 # frecuencia de corte\n",
    "\n",
    "N = 10 # longitud del filtro deseado\n",
    "M = 10*N # longitud de la respueste en frecuencia deseada  para frecuencias positivas\n",
    "Mtot = 2 * M + 1 # M para frecuencias +, M para frecuencias - y una para frecuencia 0\n",
    "\n",
    "df=fm/(Mtot) # delta para la resolución frecuencial\n",
    "\n"
   ],
   "outputs": [],
   "metadata": {}
  },
  {
   "cell_type": "markdown",
   "source": [
    "## Construcción de la respuesta de magnitud"
   ],
   "metadata": {}
  },
  {
   "cell_type": "code",
   "execution_count": 12,
   "source": [
    "MD = np.ones(M)\n",
    "nr = int(fr/df) #indice donde se encuentra la frecuencia que se quiere cortar\n",
    "\n",
    "#como no se puede hacer abruptamente, se pone un intervalo de corte\n",
    "# a continución hacemos un ancho de 2 para el intervalo de corte, alrededor de la fr\n",
    "nm = int(2/df)"
   ],
   "outputs": [],
   "metadata": {}
  },
  {
   "cell_type": "code",
   "execution_count": null,
   "source": [],
   "outputs": [],
   "metadata": {}
  }
 ],
 "metadata": {
  "orig_nbformat": 4,
  "language_info": {
   "name": "python",
   "version": "3.9.2",
   "mimetype": "text/x-python",
   "codemirror_mode": {
    "name": "ipython",
    "version": 3
   },
   "pygments_lexer": "ipython3",
   "nbconvert_exporter": "python",
   "file_extension": ".py"
  },
  "kernelspec": {
   "name": "python3",
   "display_name": "Python 3.9.2 64-bit"
  },
  "interpreter": {
   "hash": "e7370f93d1d0cde622a1f8e1c04877d8463912d04d973331ad4851f04de6915a"
  }
 },
 "nbformat": 4,
 "nbformat_minor": 2
}